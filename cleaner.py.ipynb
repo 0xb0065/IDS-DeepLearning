{
 "cells": [
  {
   "cell_type": "markdown",
   "metadata": {},
   "source": [
    "# Script para limpiar los pcaps de malware del tráfico limpio"
   ]
  },
  {
   "cell_type": "markdown",
   "metadata": {},
   "source": [
    "## Primero se necesita utilizar zeek para que genere por separado los logs de http y dns\n",
    "   ### Con el comando\n",
    "    zeek -r ruta/al/archivo.pcap"
   ]
  },
  {
   "cell_type": "markdown",
   "metadata": {},
   "source": [
    "### Una vez zeek genera los logs pueden ponerlos en alguna carpeta dentro del directorio del malware, p.ej 'Zeek' y de ahí usar el siguiente script"
   ]
  },
  {
   "cell_type": "code",
   "execution_count": 58,
   "metadata": {},
   "outputs": [],
   "source": [
    "import pandas as pd"
   ]
  },
  {
   "cell_type": "code",
   "execution_count": 74,
   "metadata": {},
   "outputs": [],
   "source": [
    "# se importan los logs de zeek como pandas dataframe\n",
    "df_malware_http = pd.read_csv('../traffic/Pcap/Bitcoin/Zeek/CoinMiner_1/http.log',header=6, sep='\\t')\n",
    "df_malware_dns = pd.read_csv('../traffic/Pcap/Bitcoin/Zeek/CoinMiner_1/dns.log',header=6, sep='\\t')\n",
    "df_clean_http = pd.read_csv('../traffic/Pcap/Clean/LimpioWindows/Zeek/http.log',header=6, sep='\\t')\n",
    "df_clean_dns = pd.read_csv('../traffic/Pcap/Clean/LimpioWindows/Zeek/dns.log',header=6, sep='\\t')"
   ]
  },
  {
   "cell_type": "code",
   "execution_count": 75,
   "metadata": {},
   "outputs": [],
   "source": [
    "# se obtienen los host y resoluciones dns únicas para el malware y tráfico limpio, respectivamente\n",
    "malware_http_hosts_unique = df_malware_http['host'].unique()\n",
    "malware_dns_queries_unique = df_malware_dns['query'].unique()\n",
    "clean_http_hosts_unique = df_clean_http['host'].unique()\n",
    "clean_dns_queries_unique = df_clean_dns['query'].unique()"
   ]
  },
  {
   "cell_type": "code",
   "execution_count": 76,
   "metadata": {},
   "outputs": [],
   "source": [
    "# se genera un set de los host \n",
    "malware_hosts = set(malware_http_hosts_unique) - set(clean_http_hosts_unique)\n",
    "malware_dns = set(malware_dns_queries_unique) - set(clean_dns_queries_unique)"
   ]
  },
  {
   "cell_type": "code",
   "execution_count": 84,
   "metadata": {},
   "outputs": [],
   "source": [
    "# se obtienen los dataframes con el malware puro, sin trafico limpio con respecto a http y dns\n",
    "df_pure_malware_http = df_malware_http[df_malware_http['host'].isin(list(malware_hosts))]\n",
    "df_pure_malware_dns = df_malware_dns[df_malware_dns['query'].isin(list(malware_dns))]"
   ]
  },
  {
   "cell_type": "markdown",
   "metadata": {},
   "source": [
    "### Aquí pueden crear una carpeta en el mismo directorio para guardar los logs filtrados, p.ej 'pure_malware_traffic'"
   ]
  },
  {
   "cell_type": "code",
   "execution_count": 82,
   "metadata": {},
   "outputs": [],
   "source": [
    "# finalmente se guardan los nuevos logs con paquetes de malware puro (en teoría)\n",
    "df_pure_malware_http.to_csv('../traffic/Pcap/Bitcoin/pure_malware_traffic/http.log', sep='\\t')\n",
    "df_pure_malware_dns.to_csv('../traffic/Pcap/Bitcoin/pure_malware_traffic/dns.log', sep='\\t')"
   ]
  },
  {
   "cell_type": "code",
   "execution_count": null,
   "metadata": {},
   "outputs": [],
   "source": []
  }
 ],
 "metadata": {
  "kernelspec": {
   "display_name": "Python 3",
   "language": "python",
   "name": "python3"
  },
  "language_info": {
   "codemirror_mode": {
    "name": "ipython",
    "version": 3
   },
   "file_extension": ".py",
   "mimetype": "text/x-python",
   "name": "python",
   "nbconvert_exporter": "python",
   "pygments_lexer": "ipython3",
   "version": "3.6.9"
  }
 },
 "nbformat": 4,
 "nbformat_minor": 2
}
